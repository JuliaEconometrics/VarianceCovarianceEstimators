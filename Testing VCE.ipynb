{
 "cells": [
  {
   "cell_type": "code",
   "execution_count": 1,
   "metadata": {},
   "outputs": [],
   "source": [
    "srand(0)\n",
    "using StatsBase\n",
    "using DataFrames\n",
    "using EconUtils\n",
    "using VarianceCovarianceEstimators"
   ]
  },
  {
   "cell_type": "code",
   "execution_count": 2,
   "metadata": {
    "collapsed": true
   },
   "outputs": [],
   "source": [
    "df = DataFrame(PID = repeat(1:10, inner = 10), TID = repeat(1:10, outer = 10),\n",
    "    X1 = rand(100), X2 = rand(100), X3 = rand(100))\n",
    "df[:y] = (Matrix(df[[:X1, :X2, :X3]]) * ones(3,1) .+ repeat(rand(10), inner = 10) .+ repeat(rand(10), outer = 10) .+ rand(100))[:]\n",
    "head(df)\n",
    "X = hcat(ones(100), Matrix(df[[:X1, :X2, :X3]]))\n",
    "writedlm(\"X.txt\", X[:,2:end])\n",
    "y = Vector(df[:y])\n",
    "writedlm(\"y.txt\", y)\n",
    "β = X \\ y\n",
    "ŷ = X * β\n",
    "û = y - ŷ;"
   ]
  },
  {
   "cell_type": "code",
   "execution_count": 3,
   "metadata": {
    "collapsed": true
   },
   "outputs": [],
   "source": [
    "mutable struct MyModel <: StatsBase.RegressionModel\n",
    "    mm::Matrix{Float64}\n",
    "    û::Vector{Float64}\n",
    "end"
   ]
  },
  {
   "cell_type": "code",
   "execution_count": 4,
   "metadata": {
    "collapsed": true
   },
   "outputs": [],
   "source": [
    "model = MyModel(X, û)\n",
    "StatsBase.modelmatrix(obj::MyModel) = getfield(obj, :mm)\n",
    "StatsBase.residuals(obj::MyModel) = getfield(obj, :û)\n",
    "StatsBase.dof_residual(obj::MyModel) = reduce(-, size(StatsBase.modelmatrix(obj)))\n",
    "StatsBase.deviance(obj::MyModel) = StatsBase.residuals(obj).'StatsBase.residuals(obj) / StatsBase.dof_residual(obj)\n",
    "StatsBase.nobs(obj::MyModel) = length(StatsBase.residuals(obj))"
   ]
  },
  {
   "cell_type": "code",
   "execution_count": 5,
   "metadata": {
    "collapsed": true
   },
   "outputs": [],
   "source": [
    "## Additional methods that allow for weights and penalized regression\n",
    "## StatsBase.modelmatrix and StatsBase.residuals could be weighted\n",
    "# function bread(obj::StatsBase.RegressionModel)\n",
    "#     mm = StatsBase.modelmatrix(obj)\n",
    "#     output = inv(cholfact!(mm.'mm)) # Could be adapted to inv(cholfact!(mm.'mm + Γ)) for Ridge Regression\n",
    "#     return output\n",
    "# end"
   ]
  },
  {
   "cell_type": "code",
   "execution_count": 6,
   "metadata": {
    "collapsed": true
   },
   "outputs": [],
   "source": [
    "## Method for cluster robust versions\n",
    "# clusters(obj::StatsBase.RegressionModel) = Vector{Vector{Int64}}() # Default\n",
    "## Modify clusters(obj::StatsBase.RegressionModel) to obtain a Clusters[Dimension[Levels[Observations]]]"
   ]
  },
  {
   "cell_type": "code",
   "execution_count": 7,
   "metadata": {},
   "outputs": [
    {
     "data": {
      "text/plain": [
       "2-element Array{Array{Array{Int64,1},1},1}:\n",
       " Array{Int64,1}[[1, 2, 3, 4, 5, 6, 7, 8, 9, 10], [11, 12, 13, 14, 15, 16, 17, 18, 19, 20], [21, 22, 23, 24, 25, 26, 27, 28, 29, 30], [31, 32, 33, 34, 35, 36, 37, 38, 39, 40], [41, 42, 43, 44, 45, 46, 47, 48, 49, 50], [51, 52, 53, 54, 55, 56, 57, 58, 59, 60], [61, 62, 63, 64, 65, 66, 67, 68, 69, 70], [71, 72, 73, 74, 75, 76, 77, 78, 79, 80], [81, 82, 83, 84, 85, 86, 87, 88, 89, 90], [91, 92, 93, 94, 95, 96, 97, 98, 99, 100]]\n",
       " Array{Int64,1}[[1, 11, 21, 31, 41, 51, 61, 71, 81, 91], [2, 12, 22, 32, 42, 52, 62, 72, 82, 92], [3, 13, 23, 33, 43, 53, 63, 73, 83, 93], [4, 14, 24, 34, 44, 54, 64, 74, 84, 94], [5, 15, 25, 35, 45, 55, 65, 75, 85, 95], [6, 16, 26, 36, 46, 56, 66, 76, 86, 96], [7, 17, 27, 37, 47, 57, 67, 77, 87, 97], [8, 18, 28, 38, 48, 58, 68, 78, 88, 98], [9, 19, 29, 39, 49, 59, 69, 79, 89, 99], [10, 20, 30, 40, 50, 60, 70, 80, 90, 100]]"
      ]
     },
     "execution_count": 7,
     "metadata": {},
     "output_type": "execute_result"
    }
   ],
   "source": [
    "groups = EconUtils.makegroups(df[[:PID, :TID]])"
   ]
  },
  {
   "cell_type": "code",
   "execution_count": 8,
   "metadata": {},
   "outputs": [],
   "source": [
    "# VarianceCovarianceEstimators.clusters(obj::MyModel) = Vector{Vector{Int64}}()"
   ]
  },
  {
   "cell_type": "code",
   "execution_count": 9,
   "metadata": {},
   "outputs": [
    {
     "data": {
      "text/plain": [
       "4×4 Array{Float64,2}:\n",
       "  0.0194882  -0.0108421    -0.0137318   -0.012001   \n",
       " -0.0108421   0.0179593     0.00259367   0.000940701\n",
       " -0.0137318   0.00259367    0.0216219    0.00371975 \n",
       " -0.012001    0.000940701   0.00371975   0.0207911  "
      ]
     },
     "execution_count": 9,
     "metadata": {},
     "output_type": "execute_result"
    }
   ],
   "source": [
    "vcov(model, :OLS)"
   ]
  },
  {
   "cell_type": "code",
   "execution_count": 10,
   "metadata": {},
   "outputs": [
    {
     "data": {
      "text/plain": [
       "4×4 Array{Float64,2}:\n",
       "  0.0225953  -0.0132238   -0.0168062  -0.0130633 \n",
       " -0.0132238   0.0183607    0.0033488   0.00451041\n",
       " -0.0168062   0.0033488    0.0256802   0.0055025 \n",
       " -0.0130633   0.00451041   0.0055025   0.0178279 "
      ]
     },
     "execution_count": 10,
     "metadata": {},
     "output_type": "execute_result"
    }
   ],
   "source": [
    "vcov(model, :HC1)"
   ]
  },
  {
   "cell_type": "code",
   "execution_count": 11,
   "metadata": {},
   "outputs": [
    {
     "data": {
      "text/plain": [
       "4×4 Array{Float64,2}:\n",
       "  0.0228941  -0.0133848   -0.0170258   -0.0132469 \n",
       " -0.0133848   0.0185044    0.00341252   0.00458796\n",
       " -0.0170258   0.00341252   0.0259233    0.00560879\n",
       " -0.0132469   0.00458796   0.00560879   0.0180105 "
      ]
     },
     "execution_count": 11,
     "metadata": {},
     "output_type": "execute_result"
    }
   ],
   "source": [
    "vcov(model, :HC2)"
   ]
  },
  {
   "cell_type": "code",
   "execution_count": 12,
   "metadata": {},
   "outputs": [
    {
     "data": {
      "text/plain": [
       "4×4 Array{Float64,2}:\n",
       "  0.02417    -0.0141159   -0.0179722   -0.0139963 \n",
       " -0.0141159   0.0194303    0.00362422   0.00486252\n",
       " -0.0179722   0.00362422   0.0272652    0.0059569 \n",
       " -0.0139963   0.00486252   0.0059569    0.0189572 "
      ]
     },
     "execution_count": 12,
     "metadata": {},
     "output_type": "execute_result"
    }
   ],
   "source": [
    "vcov(model, :HC3)"
   ]
  },
  {
   "cell_type": "code",
   "execution_count": 13,
   "metadata": {
    "collapsed": true
   },
   "outputs": [],
   "source": [
    "VarianceCovarianceEstimators.clusters(obj::MyModel) = groups"
   ]
  },
  {
   "cell_type": "code",
   "execution_count": 14,
   "metadata": {
    "collapsed": true
   },
   "outputs": [],
   "source": [
    "## Cluster robust estimates include the dof_residual for inference based on the cluster structure"
   ]
  },
  {
   "cell_type": "code",
   "execution_count": 15,
   "metadata": {},
   "outputs": [
    {
     "ename": "LoadError",
     "evalue": "\u001b[91mAssertionError: OLS is not a valid cluster robust variance covariance estimator. Valid estimators are: HC1, HC2, HC3.\u001b[39m",
     "output_type": "error",
     "traceback": [
      "\u001b[91mAssertionError: OLS is not a valid cluster robust variance covariance estimator. Valid estimators are: HC1, HC2, HC3.\u001b[39m",
      "",
      "Stacktrace:",
      " [1] \u001b[1mvcov\u001b[22m\u001b[22m\u001b[1m(\u001b[22m\u001b[22m::MyModel, ::Symbol\u001b[1m)\u001b[22m\u001b[22m at \u001b[1m/Users/jbsc/.julia/v0.7/VarianceCovarianceEstimators/src/VarianceCovarianceEstimators.jl:36\u001b[22m\u001b[22m"
     ]
    }
   ],
   "source": [
    "vcov(model, :OLS)"
   ]
  },
  {
   "cell_type": "code",
   "execution_count": 16,
   "metadata": {},
   "outputs": [
    {
     "data": {
      "text/plain": [
       "4×4 Array{Float64,2}:\n",
       "  0.0397154   -0.0185192   -0.00983352  -0.0419261\n",
       " -0.0185192    0.0220154   -0.00520504   0.0261645\n",
       " -0.00983352  -0.00520504   0.0233224    0.0127629\n",
       " -0.0419261    0.0261645    0.0127629    0.0408529"
      ]
     },
     "execution_count": 16,
     "metadata": {},
     "output_type": "execute_result"
    }
   ],
   "source": [
    "V, rdf = vcov(model, :HC1)\n",
    "V"
   ]
  },
  {
   "cell_type": "code",
   "execution_count": 17,
   "metadata": {},
   "outputs": [
    {
     "data": {
      "text/plain": [
       "4×4 Array{Float64,2}:\n",
       "  0.0527369  -0.023502    -0.0137535   -0.0558554\n",
       " -0.023502    0.0270918   -0.00664753   0.0336205\n",
       " -0.0137535  -0.00664753   0.0299603    0.017588 \n",
       " -0.0558554   0.0336205    0.017588     0.0543496"
      ]
     },
     "execution_count": 17,
     "metadata": {},
     "output_type": "execute_result"
    }
   ],
   "source": [
    "V, rdf = vcov(model, :HC2)\n",
    "V"
   ]
  },
  {
   "cell_type": "code",
   "execution_count": 18,
   "metadata": {},
   "outputs": [
    {
     "data": {
      "text/plain": [
       "4×4 Array{Float64,2}:\n",
       "  0.070778   -0.0300476   -0.019677    -0.075106 \n",
       " -0.0300476   0.0333185   -0.00836899   0.0435113\n",
       " -0.019677   -0.00836899   0.0391379    0.0246247\n",
       " -0.075106    0.0435113    0.0246247    0.0729389"
      ]
     },
     "execution_count": 18,
     "metadata": {},
     "output_type": "execute_result"
    }
   ],
   "source": [
    "V, rdf = vcov(model, :HC3)\n",
    "V"
   ]
  },
  {
   "cell_type": "code",
   "execution_count": null,
   "metadata": {
    "collapsed": true
   },
   "outputs": [],
   "source": []
  }
 ],
 "metadata": {
  "kernelspec": {
   "display_name": "Julia 0.7.0-DEV",
   "language": "julia",
   "name": "julia-0.7"
  },
  "language_info": {
   "file_extension": ".jl",
   "mimetype": "application/julia",
   "name": "julia",
   "version": "0.7.0"
  }
 },
 "nbformat": 4,
 "nbformat_minor": 2
}
